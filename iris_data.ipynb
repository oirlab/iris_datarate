{
 "cells": [
  {
   "cell_type": "code",
   "execution_count": 1,
   "metadata": {},
   "outputs": [],
   "source": [
    "import numpy as np\n",
    "byte = 8 # bits"
   ]
  },
  {
   "cell_type": "markdown",
   "metadata": {},
   "source": [
    "## Readout File Data "
   ]
  },
  {
   "cell_type": "code",
   "execution_count": 2,
   "metadata": {},
   "outputs": [
    {
     "name": "stdout",
     "output_type": "stream",
     "text": [
      "Nightly Fullframe data Size 2311.2292761599997 GB\n",
      "Nightly Subarray Data Size 9.028239359999999 GB\n"
     ]
    }
   ],
   "source": [
    "num_det=4\n",
    "num_exp=840 #number of readout files/exposures \n",
    "num=13 #number of frames in an exposure\n",
    "size = 4096 \n",
    "bits = 16 # int16\n",
    "subarray_pix=16 # subarray pixels per row\n",
    "data = size*size*num*bits/byte/1e6\n",
    "#print('Fullframe Sci Ext',data)\n",
    "bits = 8\n",
    "group_dq_size = size*size*num*bits/byte/1e6\n",
    "#print('Fullframe Group_DQ Ext',group_dq_size)\n",
    "bits = 16\n",
    "pixel_dq_size = size*size*bits/byte/1e6\n",
    "#print('Fullframe Pixel_DQ Ext',pixel_dq_size)\n",
    "\n",
    "print('Nightly Fullframe data Size',(data+group_dq_size+pixel_dq_size)*num_exp*num_det/1e3, \"GB\")\n",
    "\n",
    "## Subarray 16x4k \n",
    "bits=16\n",
    "data = size*subarray_pix*num*bits/byte/1e6\n",
    "#print('Subarray Sci Ext',data)\n",
    "bits = 8\n",
    "group_dq_size = size*subarray_pix*num*bits/byte/1e6\n",
    "#print('Subarray Group_DQ Ext',group_dq_size)\n",
    "bits = 16\n",
    "pixel_dq_size = size*subarray_pix*bits/byte/1e6\n",
    "#print('Subarray Pixel_DQ Ext',pixel_dq_size)\n",
    "\n",
    "print('Nightly Subarray Data Size',(data+group_dq_size+pixel_dq_size)*num_exp*num_det/1e3, \"GB\")"
   ]
  },
  {
   "cell_type": "markdown",
   "metadata": {},
   "source": [
    "## Raw Frame Imager"
   ]
  },
  {
   "cell_type": "code",
   "execution_count": 3,
   "metadata": {},
   "outputs": [
    {
     "name": "stdout",
     "output_type": "stream",
     "text": [
      "184.549376 MB\n"
     ]
    }
   ],
   "source": [
    "size = 4096\n",
    "bits = 32\n",
    "n_ext=2\n",
    "data = size*size*n_ext*bits/byte/1e6\n",
    "flag_bits = 16\n",
    "flag_data = size*size*flag_bits/byte/1e6\n",
    "subarr_bits = 8\n",
    "subarr_data = size*size*subarr_bits/byte/1e6\n",
    "print(data+flag_data+subarr_data, \"MB\")"
   ]
  },
  {
   "cell_type": "markdown",
   "metadata": {},
   "source": [
    "## Raw Frame Subarray"
   ]
  },
  {
   "cell_type": "code",
   "execution_count": 4,
   "metadata": {},
   "outputs": [
    {
     "name": "stdout",
     "output_type": "stream",
     "text": [
      "17.432575999999997 MB\n"
     ]
    }
   ],
   "source": [
    "size = 4096\n",
    "subarr_size= 16\n",
    "bits = 32\n",
    "n_ext=2\n",
    "data = size*subarr_size*n_ext*bits/byte/1e6\n",
    "flag_bits = 16\n",
    "flag_data = size*subarr_size*flag_bits/byte/1e6\n",
    "subarr_bits = 8\n",
    "subarr_data = size*size*subarr_bits/byte/1e6\n",
    "print(data+flag_data+subarr_data, \"MB\")"
   ]
  },
  {
   "cell_type": "markdown",
   "metadata": {},
   "source": [
    "## Raw Frame IFS"
   ]
  },
  {
   "cell_type": "code",
   "execution_count": 5,
   "metadata": {},
   "outputs": [
    {
     "name": "stdout",
     "output_type": "stream",
     "text": [
      "167.77215999999999 MB\n"
     ]
    }
   ],
   "source": [
    "size = 4096\n",
    "bits = 32\n",
    "n_ext=2\n",
    "data = size*size*n_ext*bits/byte/1e6\n",
    "flag_bits = 16\n",
    "flag_data = size*size*flag_bits/byte/1e6\n",
    "print(data+flag_data, \"MB\")"
   ]
  },
  {
   "cell_type": "markdown",
   "metadata": {},
   "source": [
    "## Lenslet Processed Frame"
   ]
  },
  {
   "cell_type": "code",
   "execution_count": 6,
   "metadata": {},
   "outputs": [
    {
     "name": "stdout",
     "output_type": "stream",
     "text": [
      "400\n"
     ]
    }
   ],
   "source": [
    "wave_min=2.1229 #1.975 \n",
    "wave_max=2.2317 #2.412\n",
    "R=4000.\n",
    "ndelta = int(np.ceil( np.log10(wave_max/wave_min)/np.log10(1.0+1.0/(R*2.0)) ))\n",
    "print(ndelta)"
   ]
  },
  {
   "cell_type": "code",
   "execution_count": 7,
   "metadata": {},
   "outputs": [
    {
     "name": "stdout",
     "output_type": "stream",
     "text": [
      "65.536 MB\n"
     ]
    }
   ],
   "source": [
    "bits = 32 # float32 is 32 bits, 4 bytes\n",
    "n_ext = 2\n",
    "elements = 128*128 #45*90\n",
    "flag_bits = 16\n",
    "data = elements*bits*ndelta*n_ext/byte/1e6\n",
    "flag_data = elements*flag_bits*ndelta/byte/1e6\n",
    "print(data+flag_data, \"MB\")"
   ]
  },
  {
   "cell_type": "markdown",
   "metadata": {},
   "source": [
    "## Slicer Processed Frame"
   ]
  },
  {
   "cell_type": "code",
   "execution_count": 8,
   "metadata": {},
   "outputs": [
    {
     "name": "stdout",
     "output_type": "stream",
     "text": [
      "1600\n"
     ]
    }
   ],
   "source": [
    "wave_min=1.975 \n",
    "wave_max=2.412\n",
    "R=4000.\n",
    "ndelta = int(np.ceil( np.log10(wave_max/wave_min)/np.log10(1.0+1.0/(R*2.0)) ))\n",
    "print(ndelta)"
   ]
  },
  {
   "cell_type": "code",
   "execution_count": 9,
   "metadata": {},
   "outputs": [
    {
     "name": "stdout",
     "output_type": "stream",
     "text": [
      "63.36 MB\n"
     ]
    }
   ],
   "source": [
    "bits = 32 # float32 is 32 bits, 4 bytes\n",
    "n_ext = 2\n",
    "elements = 88*45\n",
    "flag_bits = 16\n",
    "data = elements*bits*ndelta*n_ext/byte/1e6\n",
    "flag_data = elements*flag_bits*ndelta/byte/1e6\n",
    "print(data+flag_data, \"MB\")"
   ]
  },
  {
   "cell_type": "markdown",
   "metadata": {},
   "source": [
    "## Imager Processed Frame"
   ]
  },
  {
   "cell_type": "code",
   "execution_count": 10,
   "metadata": {},
   "outputs": [
    {
     "name": "stdout",
     "output_type": "stream",
     "text": [
      "184.549376 MB\n"
     ]
    }
   ],
   "source": [
    "size = 4096\n",
    "bits = 32\n",
    "n_ext=2\n",
    "data = size*size*n_ext*bits/byte/1e6\n",
    "flag_bits = 16\n",
    "flag_data = size*size*flag_bits/byte/1e6\n",
    "subarr_bits = 8\n",
    "subarr_data = size*size*subarr_bits/byte/1e6\n",
    "print(data+flag_data+subarr_data, \"MB\")"
   ]
  },
  {
   "cell_type": "markdown",
   "metadata": {},
   "source": [
    "## Imager Subarray Processed"
   ]
  },
  {
   "cell_type": "code",
   "execution_count": 11,
   "metadata": {},
   "outputs": [
    {
     "name": "stdout",
     "output_type": "stream",
     "text": [
      "17.432575999999997 MB\n"
     ]
    }
   ],
   "source": [
    "size = 4096\n",
    "subarr_size=16\n",
    "bits = 32\n",
    "n_ext=2\n",
    "data = size*subarr_size*n_ext*bits/byte/1e6\n",
    "flag_bits = 16\n",
    "flag_data = size*subarr_size*flag_bits/byte/1e6\n",
    "subarr_bits = 8\n",
    "subarr_data = size*size*subarr_bits/byte/1e6\n",
    "print(data+flag_data+subarr_data, \"MB\")"
   ]
  }
 ],
 "metadata": {
  "kernelspec": {
   "display_name": "Python 3",
   "language": "python",
   "name": "python3"
  },
  "language_info": {
   "codemirror_mode": {
    "name": "ipython",
    "version": 3
   },
   "file_extension": ".py",
   "mimetype": "text/x-python",
   "name": "python",
   "nbconvert_exporter": "python",
   "pygments_lexer": "ipython3",
   "version": "3.6.9"
  }
 },
 "nbformat": 4,
 "nbformat_minor": 4
}
